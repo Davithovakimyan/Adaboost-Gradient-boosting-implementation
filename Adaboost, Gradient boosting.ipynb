{
 "cells": [
  {
   "cell_type": "code",
   "execution_count": 18,
   "id": "2ba074d1",
   "metadata": {},
   "outputs": [],
   "source": [
    "import numpy as np\n",
    "from sklearn.ensemble import AdaBoostClassifier\n",
    "from sklearn.datasets import make_classification\n",
    "from sklearn.tree import DecisionTreeClassifier\n",
    "from sklearn.tree import DecisionTreeRegressor"
   ]
  },
  {
   "cell_type": "code",
   "execution_count": 19,
   "id": "39920136",
   "metadata": {},
   "outputs": [],
   "source": [
    "x,y=make_classification(n_classes=2)"
   ]
  },
  {
   "cell_type": "code",
   "execution_count": 20,
   "id": "ae4b1000",
   "metadata": {},
   "outputs": [],
   "source": [
    "y=np.where(y==0,-1,1)"
   ]
  },
  {
   "cell_type": "code",
   "execution_count": 21,
   "id": "f5c6b566",
   "metadata": {},
   "outputs": [],
   "source": [
    "class ADABOST:\n",
    "    def __init__(self,estimators):\n",
    "        self.estimators=estimators\n",
    "        self.models=[]\n",
    "        self.w=[]\n",
    "        \n",
    "    def fit(self, x, y):\n",
    "        \n",
    "        self.weights = np.full(x.shape[0], 1 / x.shape[0])\n",
    "        for i in range(self.estimators):\n",
    "            model = DecisionTreeClassifier(max_depth=1)\n",
    "            model.fit(x, y, sample_weight=self.weights)\n",
    "            self.models.append(model)\n",
    "            prediction = model.predict(x)\n",
    "            errors = np.sum(self.weights[prediction != y])\n",
    "            amount_of_say = np.log((1 - errors) / errors)\n",
    "            self.weights *= np.exp(-amount_of_say * y * prediction)\n",
    "            self.weights /= np.sum(self.weights)\n",
    "            self.w.append(amount_of_say)\n",
    "            \n",
    "    def predict(self,x):\n",
    "        predictions=np.zeros(x.shape[0])\n",
    "        for i in range(x.shape[0]):\n",
    "            pred=0\n",
    "            for model,weight in zip(self.models,self.w):\n",
    "                pred+=weight*model.predict([x[i]])\n",
    "                \n",
    "            predictions[i]=np.sign(pred)\n",
    "                \n",
    "            \n",
    "        return predictions"
   ]
  },
  {
   "cell_type": "code",
   "execution_count": 22,
   "id": "26692672",
   "metadata": {},
   "outputs": [],
   "source": [
    "model=ADABOST(20)"
   ]
  },
  {
   "cell_type": "code",
   "execution_count": 23,
   "id": "da1178f5",
   "metadata": {},
   "outputs": [],
   "source": [
    "model.fit(x,y)"
   ]
  },
  {
   "cell_type": "code",
   "execution_count": 24,
   "id": "6d03be84",
   "metadata": {},
   "outputs": [
    {
     "data": {
      "text/plain": [
       "array([ 1., -1.,  1., -1.,  1.,  1., -1., -1., -1., -1., -1., -1., -1.,\n",
       "        1.,  1.,  1., -1., -1., -1.,  1.,  1., -1.,  1., -1.,  1.,  1.,\n",
       "        1.,  1., -1.,  1.,  1., -1., -1.,  1.,  1., -1., -1., -1., -1.,\n",
       "        1.,  1.,  1., -1., -1.,  1.,  1., -1.,  1., -1., -1., -1.,  1.,\n",
       "        1., -1.,  1., -1., -1.,  1.,  1., -1.,  1.,  1., -1., -1., -1.,\n",
       "        1.,  1., -1.,  1.,  1.,  1., -1., -1., -1.,  1., -1., -1., -1.,\n",
       "        1.,  1.,  1.,  1., -1., -1., -1.,  1.,  1., -1.,  1.,  1., -1.,\n",
       "        1.,  1., -1.,  1.,  1.,  1., -1., -1.,  1.])"
      ]
     },
     "execution_count": 24,
     "metadata": {},
     "output_type": "execute_result"
    }
   ],
   "source": [
    "model.predict(x)"
   ]
  },
  {
   "cell_type": "code",
   "execution_count": 25,
   "id": "b74d3aa5",
   "metadata": {},
   "outputs": [
    {
     "data": {
      "text/plain": [
       "array([ 1, -1,  1, -1,  1,  1, -1, -1, -1, -1, -1, -1, -1,  1,  1,  1, -1,\n",
       "       -1, -1,  1,  1, -1,  1, -1,  1,  1,  1,  1, -1,  1,  1, -1, -1,  1,\n",
       "        1, -1, -1, -1, -1,  1,  1,  1, -1, -1,  1,  1, -1,  1, -1, -1, -1,\n",
       "        1,  1, -1,  1, -1, -1,  1,  1, -1,  1,  1, -1, -1, -1,  1,  1, -1,\n",
       "        1,  1,  1, -1, -1, -1,  1, -1, -1, -1,  1,  1,  1,  1, -1, -1, -1,\n",
       "        1,  1, -1,  1,  1, -1,  1,  1, -1,  1,  1,  1, -1, -1, -1])"
      ]
     },
     "execution_count": 25,
     "metadata": {},
     "output_type": "execute_result"
    }
   ],
   "source": [
    "y"
   ]
  },
  {
   "cell_type": "code",
   "execution_count": 16,
   "id": "0b081560",
   "metadata": {},
   "outputs": [],
   "source": [
    "from sklearn.datasets import make_regression"
   ]
  },
  {
   "cell_type": "code",
   "execution_count": 95,
   "id": "79d23928",
   "metadata": {},
   "outputs": [],
   "source": [
    "x,y=make_regression()"
   ]
  },
  {
   "cell_type": "code",
   "execution_count": 170,
   "id": "66bfe987",
   "metadata": {},
   "outputs": [],
   "source": [
    "class Gradientboost:\n",
    "    def __init__(self,estimators):\n",
    "        self.estimators=estimators\n",
    "        self.models=[]\n",
    "        \n",
    "        \n",
    "    def fit(self,x,y):\n",
    "        self.y=y\n",
    "        y_pred=np.full(x.shape[0],np.mean(self.y))\n",
    "        for i in range(80):\n",
    "            residuals=self.y-y_pred\n",
    "            model=DecisionTreeRegressor(max_depth=1)\n",
    "            model.fit(x,residuals)\n",
    "            self.models.append(model)\n",
    "            y_pred=y_pred+0.1*model.predict(x)\n",
    "            \n",
    "            \n",
    "    def predict(self,x):\n",
    "        predictions=np.full(x.shape[0],np.mean(self.y))\n",
    "        for i in range(80):\n",
    "            predictions+=0.1*self.models[i].predict(x)\n",
    "        \n",
    "        return predictions\n",
    "          "
   ]
  },
  {
   "cell_type": "code",
   "execution_count": 171,
   "id": "31f58f71",
   "metadata": {},
   "outputs": [],
   "source": [
    "model=Gradientboost(20)"
   ]
  },
  {
   "cell_type": "code",
   "execution_count": 172,
   "id": "c1351bb8",
   "metadata": {},
   "outputs": [],
   "source": [
    "model.fit(x,y)"
   ]
  },
  {
   "cell_type": "code",
   "execution_count": 173,
   "id": "674a52dc",
   "metadata": {},
   "outputs": [
    {
     "data": {
      "text/plain": [
       "array([ 100.24663922,   86.18169712, -209.47826036,  -52.20280871,\n",
       "       -189.19223437,   15.42224367,  -45.57198918, -141.12547242,\n",
       "        156.15054147,  142.99917311,  -81.18817055,  -60.29743778,\n",
       "        166.05524944,  147.02161004,  165.44078116, -106.2564215 ,\n",
       "         31.70237189,   23.3688602 ,   79.09166441,  -55.10322533,\n",
       "        -73.81803526, -201.97411227,  110.96815189, -139.13942424,\n",
       "        -63.17941729, -100.66001056,   37.67181929,  136.79283472,\n",
       "        368.95935978,  -72.75381804,   53.37735979, -234.31465448,\n",
       "        -48.32098846, -233.90430712,  -48.67172612,  141.77954992,\n",
       "        184.50845433,   32.73576798,  -79.35506928,  -93.8925766 ,\n",
       "         87.52162394,  112.27757428,   64.26620995,  451.93593064,\n",
       "       -173.94814526,   99.31446601,   19.49713121,  -87.76298565,\n",
       "        -18.6554521 , -185.83586491,  -77.82746504,  -97.92357184,\n",
       "         25.34831095, -118.74039565,   48.62123894, -198.73461629,\n",
       "       -140.33698782,  196.5752681 ,  -14.2791475 , -278.12154841,\n",
       "         62.23517239,  -13.24498542,  -76.86192715,  -49.53956   ,\n",
       "         -5.64722744,  -63.62000353,   -2.16655513, -263.27697311,\n",
       "       -163.49632453,  -19.72170701,   21.22070653,  186.38352364,\n",
       "         59.04128026,  -37.30935076, -232.4225896 ,  -37.11483989,\n",
       "        -69.69733257,  -11.71437008, -147.5706403 ,  -82.42607279,\n",
       "        226.36200294, -195.86182944,  365.48568237,  -56.2743426 ,\n",
       "        133.40528505,   53.38245831,  111.3676551 ,  264.26433993,\n",
       "       -140.36729493, -100.23193656,    7.94824694, -213.38844087,\n",
       "       -110.49077921,   12.98586769,  239.94183279,   25.95608976,\n",
       "        -54.1430612 ,  -25.65247531, -185.10547026,    6.94373626])"
      ]
     },
     "execution_count": 173,
     "metadata": {},
     "output_type": "execute_result"
    }
   ],
   "source": [
    "model.predict(x)"
   ]
  },
  {
   "cell_type": "code",
   "execution_count": 174,
   "id": "7fd009fb",
   "metadata": {},
   "outputs": [
    {
     "data": {
      "text/plain": [
       "array([  95.92496288,  144.45479494, -261.79666287, -102.53804162,\n",
       "       -288.17001073,  -32.93011129,  -81.2574411 , -217.18867988,\n",
       "        191.36941333,  216.44764456,  -93.3343463 ,  -57.86840233,\n",
       "        195.90415298,  283.01881763,  191.15002344,  -90.81355968,\n",
       "         37.40526865,  115.90949765,  226.85327868, -165.82523247,\n",
       "        -74.98303374, -320.68069486,  172.93946595, -110.42406633,\n",
       "        -33.37637618, -207.81276678,   90.12448234,  160.48226123,\n",
       "        478.76446054,  -83.08323182,   59.14581459, -342.11734063,\n",
       "         -8.42174728, -315.47827349, -171.94579186,  258.41303691,\n",
       "        287.40300793,   12.63585773,  -74.33260211,  -95.9443127 ,\n",
       "        -52.61530116,  207.28655251,  151.50076792,  573.94573691,\n",
       "       -234.46275505,  230.33223112,    6.15385814, -147.35313132,\n",
       "          2.03428936, -301.66770866,  -73.3035155 ,  -59.11629588,\n",
       "         -2.72263438, -116.4839147 ,  158.00480257, -372.81591716,\n",
       "       -120.40786923,  296.49861063,  -80.74035029, -361.85588927,\n",
       "         70.38440625, -168.50376537, -169.00988894,  -55.44734477,\n",
       "        -20.98485903,   -9.63473946,   -9.85179283, -353.05003455,\n",
       "       -169.3523672 , -130.78529518,   69.28264215,  298.39160504,\n",
       "         85.12948225,  -79.50961616, -262.88036717,  -70.31442673,\n",
       "       -135.02580177,  -42.75397881, -202.7299304 , -129.24593875,\n",
       "        284.61298944, -241.61106615,  528.85155023,   -5.79140476,\n",
       "        192.91095926,  111.29589004,  123.44902611,  360.57280174,\n",
       "       -108.04324105, -115.81154988,   -2.60877833, -292.98918214,\n",
       "        -96.03089244,   60.21491875,  281.41893566,  122.09292872,\n",
       "        -71.79946375, -100.56487408, -308.0501363 ,   56.3808512 ])"
      ]
     },
     "execution_count": 174,
     "metadata": {},
     "output_type": "execute_result"
    }
   ],
   "source": [
    "y"
   ]
  },
  {
   "cell_type": "code",
   "execution_count": null,
   "id": "54ffd15a",
   "metadata": {},
   "outputs": [],
   "source": []
  }
 ],
 "metadata": {
  "kernelspec": {
   "display_name": "Python 3 (ipykernel)",
   "language": "python",
   "name": "python3"
  },
  "language_info": {
   "codemirror_mode": {
    "name": "ipython",
    "version": 3
   },
   "file_extension": ".py",
   "mimetype": "text/x-python",
   "name": "python",
   "nbconvert_exporter": "python",
   "pygments_lexer": "ipython3",
   "version": "3.9.7"
  }
 },
 "nbformat": 4,
 "nbformat_minor": 5
}
